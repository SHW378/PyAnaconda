{
 "cells": [
  {
   "cell_type": "markdown",
   "id": "88b884ef-8fd0-4222-b5f1-0ffe8d0e1d1c",
   "metadata": {},
   "source": [
    "Nombre: Cësar Alberto Cázares Chaván<br>\n",
    "Fecha: 14/10/2025"
   ]
  },
  {
   "cell_type": "code",
   "execution_count": 2,
   "id": "950c580e-31fa-4a94-86da-69c2b1ace42b",
   "metadata": {},
   "outputs": [],
   "source": [
    "#importar las librerias\n",
    "from scipy.stats import chi2"
   ]
  },
  {
   "cell_type": "code",
   "execution_count": 3,
   "id": "1eaa4a42-55aa-4326-aa08-93e3663cc650",
   "metadata": {},
   "outputs": [],
   "source": [
    "def intervaloParaVarianza_chi2(varianza,alfa,n):\n",
    "    gl=n-1\n",
    "    chi_variable1=chi2.ppf(1-alfa/2,gl)\n",
    "    chi_variable2=chi2.ppf(alfa/2,gl)\n",
    "    linferior=(gl*varianza)/chi_variable1\n",
    "    lsuperior=(gl*varianza)/chi_variable2\n",
    "    return linferior,lsuperior\n",
    " \n",
    "def intervaloParadesviacion_chi2(varianza,alfa,n):\n",
    "    gl=n-1\n",
    "    chi_variable1=chi2.ppf(1-alfa/2,gl)\n",
    "    chi_variable2=chi2.ppf(alfa/2,gl)\n",
    "    linferior=((gl*varianza)/chi_variable1)**(1/2)\n",
    "    lsuperior=((gl*varianza)/chi_variable2)**(1/2)\n",
    "    return linferior,lsuperior"
   ]
  },
  {
   "cell_type": "markdown",
   "id": "3111a230-c624-4044-a45f-db66527ddf4a",
   "metadata": {},
   "source": [
    "Una analista financiera desea evaluar la estabilidad de los rendimientos diarios de las acciones de una empresa tecnológica que cotiza en la Bolsa Mexicana de Valores. Para ello, toma una muestra aleatoria de 20 días y obtiene una varianza muestral de s2=0.0025. Suponiendo que los rendimientos siguen una distribución normal, la analista quiere construir un intervalo de confianza del 95 % para la varianza poblacional de los rendimientos, con el fin de determinar si la volatilidad real del activo se mantiene dentro de los límites aceptables para la política de riesgo del portafolio de inversión."
   ]
  },
  {
   "cell_type": "code",
   "execution_count": 5,
   "id": "6c809982-f8bd-40e1-ba04-86b2dec1a88f",
   "metadata": {},
   "outputs": [
    {
     "name": "stdout",
     "output_type": "stream",
     "text": [
      "Con una foncianza del 95% la varianza poblacional puede estar entre [0.0014458640996700195, 0.005333173760589932]\n"
     ]
    }
   ],
   "source": [
    "li, ls= intervaloParaVarianza_chi2(0.0025,0.05,20)\n",
    "print(f\"Con una foncianza del 95% la varianza poblacional puede estar entre [{li}, {ls}]\")"
   ]
  },
  {
   "cell_type": "markdown",
   "id": "b8c9569d-f90d-4e98-86c8-5828183c2b06",
   "metadata": {},
   "source": [
    "Una investigadora clínica quiere conocer la variabilidad en la concentración sérica de proteína C-reactiva (CRP, en mg/L) en pacientes con una determinada infección. Toma una muestra aleatoria de n=25 pacientes y obtiene una desviación estándar muestral de s=1.8 mg/L. Suponiendo que las concentraciones de CRP siguen una distribución normal en la población, construye un intervalo de confianza del 95% para la desviación estándar poblacional de la CRP."
   ]
  },
  {
   "cell_type": "code",
   "execution_count": 7,
   "id": "b32e6cea-58d7-499f-8615-3ddb982fdd02",
   "metadata": {},
   "outputs": [
    {
     "name": "stdout",
     "output_type": "stream",
     "text": [
      "Con una foncianza del 95% la dedsviación poblacional puede estar entre [1.405491066396737, 2.5040739015123834]\n"
     ]
    }
   ],
   "source": [
    "li, ls =intervaloParadesviacion_chi2(1.8*1.8,0.05,25)\n",
    "print(f\"Con una foncianza del 95% la dedsviación poblacional puede estar entre [{li}, {ls}]\")                            "
   ]
  },
  {
   "cell_type": "code",
   "execution_count": null,
   "id": "ece8a07e-f484-4361-a763-cef3c659e4be",
   "metadata": {},
   "outputs": [],
   "source": []
  }
 ],
 "metadata": {
  "kernelspec": {
   "display_name": "Python [conda env:base] *",
   "language": "python",
   "name": "conda-base-py"
  },
  "language_info": {
   "codemirror_mode": {
    "name": "ipython",
    "version": 3
   },
   "file_extension": ".py",
   "mimetype": "text/x-python",
   "name": "python",
   "nbconvert_exporter": "python",
   "pygments_lexer": "ipython3",
   "version": "3.13.5"
  }
 },
 "nbformat": 4,
 "nbformat_minor": 5
}
