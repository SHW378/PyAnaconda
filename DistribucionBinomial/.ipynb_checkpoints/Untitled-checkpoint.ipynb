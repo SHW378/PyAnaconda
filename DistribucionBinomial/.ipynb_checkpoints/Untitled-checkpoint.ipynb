{
 "cells": [
  {
   "cell_type": "markdown",
   "id": "aeb00a0b-9d78-498f-81e2-faa5b92614ad",
   "metadata": {},
   "source": [
    "Nombre: César ALberto Cázares Chaván\n",
    "Fecha: 23/09/20205"
   ]
  },
  {
   "cell_type": "code",
   "execution_count": 1,
   "id": "9651adff-528b-473b-bd25-96a8c98f8f71",
   "metadata": {},
   "outputs": [],
   "source": [
    "#Carga de librerias\n",
    "from scipy.stats import binom "
   ]
  },
  {
   "cell_type": "code",
   "execution_count": 36,
   "id": "4da53dda-e31e-4108-b35a-8445eb4b1848",
   "metadata": {},
   "outputs": [
    {
     "name": "stdout",
     "output_type": "stream",
     "text": [
      "1.- p(x=5): 0.24609375000000003\n",
      "2.- p(x=0): 0.0009765624999999989\n",
      "3.- p(x=10): 0.0009765625\n",
      "4.- p(x<=4): 0.37695312499999994\n",
      "4.- p(x<=4): 0.376953125\n",
      "5.- p(x<=6): 0.828125\n",
      "6.- p(x>5): 0.376953125\n",
      "6.- p(x>5): 0.37695312499999994\n",
      "7.- p(x>5): 0.376953125\n",
      "7.- p(x>5): 0.37695312499999994\n",
      "8.- p(x>7): 0.9453125\n",
      "9.- p(x>=7): 0.171875\n",
      "9.- p(x>=7): 0.171875\n",
      "10.-P(4<=X<=6): 0.65625\n",
      "10.-P(4<=X<=6): 0.6562499999999998\n"
     ]
    }
   ],
   "source": [
    "#Eventos\n",
    "'''\n",
    "En un juego se tienen que realizar 10 lanzamientos de una moneda. La persona que obtiene mas valores de \"Cruz\" gana.\n",
    "1.- ¿Cuál es la probabilidad de obtener 5 éxitos?\n",
    "2.- ¿Cuál es la probabilidad de ningún exito?\n",
    "3.- ¿Cuál es la probabilidad de obtener 10 éxitos?\n",
    "4.- ¿Cuál es la probabilidad de obtener a lo mucho 4 exitos?\n",
    "5.- ¿Cuál es la probabilidad de obtener a lo mucho 6 exitos?\n",
    "6.- ¿Cuál es la probabilidad de tener menos de 5 éxitos?\n",
    "7.- ¿Cual es la probabilidad de tener más de 5 éxitos\n",
    "8.- ¿Cuál es la probabilidad de tener mas de 7 exitos?\n",
    "9.- ¿Cuál es la probabilidad de tener 7 o mas exitos?\n",
    "10.- ¿Cuál es la probabilidad de tener entre 4 y 6 éxitos?\n",
    "\n",
    "n= lanzamientos\n",
    "k=prob de obtener exitos\n",
    "p=probabilidad de cara de moneda en este contexto\n",
    "'''\n",
    "print(\"1.- p(x=5):\", binom.pmf(n=10, k=5, p=0.5))\n",
    "print(\"2.- p(x=0):\", binom.pmf(n=10, k=0, p=0.5))\n",
    "print(\"3.- p(x=10):\", binom.pmf(n=10, k=10, p=0.5))\n",
    "print(\"4.- p(x<=4):\", binom.pmf(n=10, k=0, p=0.5)+binom.pmf(n=10, k=1, p=0.5)+binom.pmf(n=10, k=2, p=0.5)+binom.pmf(n=10, k=3, p=0.5)\n",
    "      +binom.pmf(n=10, k=4, p=0.5))\n",
    "print(\"4.- p(x<=4):\", binom.cdf(n=10,k=4,p=.5))\n",
    "print(\"5.- p(x<=6):\", binom.cdf(n=10,k=6,p=.5))\n",
    "print(\"6.- p(x>5):\", binom.cdf(n=10,k=4,p=.5))\n",
    "print(\"6.- p(x>5):\", binom.pmf(n=10, k=6, p=0.5)+binom.pmf(n=10, k=7, p=0.5)+binom.pmf(n=10, k=8, p=0.5)+binom.pmf(n=10, k=9, p=0.5)\n",
    "      +binom.pmf(n=10, k=10, p=0.5))\n",
    "print(\"7.- p(x>5):\", 1-binom.cdf(n=10,k=5,p=.5))\n",
    "print(\"7.- p(x>5):\", binom.pmf(n=10,k=6,p=.5)+binom.pmf(n=10,k=7,p=.5)+binom.pmf(n=10,k=8,p=.5)+binom.pmf(n=10,k=9,p=.5)+binom.pmf(n=10,k=10,p=.5))\n",
    "print(\"8.- p(x>7):\", binom.cdf(n=10,k=7,p=.5))\n",
    "print(\"9.- p(x>=7):\", 1-binom.cdf(n=10,k=6,p=.5))\n",
    "print(\"9.- p(x>=7):\", binom.pmf(n=10,k=7,p=.5)+1-binom.cdf(n=10,k=7,p=.5))\n",
    "print(\"10.-P(4<=X<=6):\", binom.cdf(n=10,k=6,p=0.5)-binom.cdf(n=10,k=3,p=0.5))\n",
    "print(\"10.-P(4<=X<=6):\", binom.pmf(n=10,k=4,p=0.5)+binom.pmf(n=10,k=5,p=0.5)+binom.pmf(n=10,k=6,p=0.5))"
   ]
  },
  {
   "cell_type": "code",
   "execution_count": null,
   "id": "9d387d29-3060-469c-bd09-50dc11a6c126",
   "metadata": {},
   "outputs": [],
   "source": []
  }
 ],
 "metadata": {
  "kernelspec": {
   "display_name": "Python [conda env:base] *",
   "language": "python",
   "name": "conda-base-py"
  },
  "language_info": {
   "codemirror_mode": {
    "name": "ipython",
    "version": 3
   },
   "file_extension": ".py",
   "mimetype": "text/x-python",
   "name": "python",
   "nbconvert_exporter": "python",
   "pygments_lexer": "ipython3",
   "version": "3.13.5"
  }
 },
 "nbformat": 4,
 "nbformat_minor": 5
}
