{
 "cells": [
  {
   "cell_type": "markdown",
   "id": "f695278e-1323-491d-b813-856e67e72e90",
   "metadata": {},
   "source": [
    "Nombre: César Alberto Cázares Chaván, Victor Alejandro Chavez Valades, José ALberto Vargas Chavez<br>\n",
    "Fecha: 07/10/2025"
   ]
  },
  {
   "cell_type": "code",
   "execution_count": null,
   "id": "8d7e8b6f-371b-4a2b-a93a-466fda6b905e",
   "metadata": {},
   "outputs": [],
   "source": [
    "from scipy.stats import poisson\n",
    "import matplotlib.pyplot as plt"
   ]
  },
  {
   "cell_type": "markdown",
   "id": "4057bb7a-47e3-4df7-9d25-bc01fbabfcc6",
   "metadata": {},
   "source": [
    "Ejercicio 4: Errores en Mensajes de Log<br>\n",
    "Un sistema genera en promedio 3 mensajes de error en los logs por hora.<br>\n",
    "• a) Calcule la probabilidad de que se registren exactamente 4 errores en una hora.<br>\n",
    "• b) Determine la probabilidad de que no se registre ningún error en una hora.<br>\n",
    "• c) Encuentre la probabilidad de que se registren 2 o más errores en una hora.<br>\n",
    "Ejercicio 5: Reportes de Incidencias de Usuarios<br>\n",
    "El equipo de soporte recibe en promedio 6 reportes de incidencias por día.<br>\n",
    "• a) Calcule la probabilidad de recibir exactamente 8 reportes en un día.<br>\n",
    "• b) Determine la probabilidad de recibir menos de 3 reportes en un día.<br>\n",
    "• c) Encuentre la probabilidad de recibir al menos 5 reportes en un día<br>\n"
   ]
  },
  {
   "cell_type": "code",
   "execution_count": null,
   "id": "09224208-ecce-4124-af01-7b05fe3bd57a",
   "metadata": {},
   "outputs": [],
   "source": []
  }
 ],
 "metadata": {
  "kernelspec": {
   "display_name": "Python [conda env:base] *",
   "language": "python",
   "name": "conda-base-py"
  },
  "language_info": {
   "codemirror_mode": {
    "name": "ipython",
    "version": 3
   },
   "file_extension": ".py",
   "mimetype": "text/x-python",
   "name": "python",
   "nbconvert_exporter": "python",
   "pygments_lexer": "ipython3",
   "version": "3.13.5"
  }
 },
 "nbformat": 4,
 "nbformat_minor": 5
}
