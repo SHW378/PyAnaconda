{
 "cells": [
  {
   "cell_type": "markdown",
   "id": "f695278e-1323-491d-b813-856e67e72e90",
   "metadata": {},
   "source": [
    "Nombre: César Alberto Cázares Chaván, Victor Alejandro Chavez Valades, José ALberto Vargas Chavez<br>\n",
    "Fecha: 07/10/2025"
   ]
  },
  {
   "cell_type": "code",
   "execution_count": 2,
   "id": "8d7e8b6f-371b-4a2b-a93a-466fda6b905e",
   "metadata": {},
   "outputs": [],
   "source": [
    "from scipy.stats import poisson\n",
    "import matplotlib.pyplot as plt"
   ]
  },
  {
   "cell_type": "markdown",
   "id": "4057bb7a-47e3-4df7-9d25-bc01fbabfcc6",
   "metadata": {},
   "source": [
    "Ejercicio 4: Errores en Mensajes de Log<br>\n",
    "Un sistema genera en promedio 3 mensajes de error en los logs por hora.<br>\n",
    "• a) Calcule la probabilidad de que se registren exactamente 4 errores en una hora.<br>\n",
    "• b) Determine la probabilidad de que no se registre ningún error en una hora.<br>\n",
    "• c) Encuentre la probabilidad de que se registren 2 o más errores en una hora.<br>\n",
    "Ejercicio 5: Reportes de Incidencias de Usuarios<br>\n",
    "El equipo de soporte recibe en promedio 6 reportes de incidencias por día.<br>\n",
    "• a) Calcule la probabilidad de recibir exactamente 8 reportes en un día.<br>\n",
    "• b) Determine la probabilidad de recibir menos de 3 reportes en un día.<br>\n",
    "• c) Encuentre la probabilidad de recibir al menos 5 reportes en un día<br>\n"
   ]
  },
  {
   "cell_type": "code",
   "execution_count": 14,
   "id": "09224208-ecce-4124-af01-7b05fe3bd57a",
   "metadata": {},
   "outputs": [
    {
     "name": "stdout",
     "output_type": "stream",
     "text": [
      "------------Ejercicio 4------------\n",
      "A) p(x=4) 0.16803135574154085\n",
      "B) p(x=0) 0.049787068367863944\n",
      "C) p(x>=2) 0.8008517265285442\n",
      "------------Ejercicio 5------------\n",
      "A) p(x=8) 0.1032577335308442\n",
      "B) p(x<3) 0.06196880441665898\n",
      "C) p(x>=5) 0.7149434996833688\n"
     ]
    }
   ],
   "source": [
    "#mu = 3\n",
    "print(\"------------Ejercicio 4------------\")\n",
    "print(\"A) p(x=4)\", poisson.pmf(mu=3, k=4))\n",
    "print(\"B) p(x=0)\", poisson.pmf(mu=3, k=0))\n",
    "print(\"C) p(x>=2)\", poisson.sf(mu=3, k=1))\n",
    "#mu = 6\n",
    "print(\"------------Ejercicio 5------------\")\n",
    "print(\"A) p(x=8)\", poisson.pmf(mu=6, k=8))\n",
    "print(\"B) p(x<3)\", poisson.cdf(mu=6, k=2))\n",
    "print(\"C) p(x>=5)\", poisson.sf(mu=6, k=4))"
   ]
  },
  {
   "cell_type": "code",
   "execution_count": null,
   "id": "db504935",
   "metadata": {},
   "outputs": [],
   "source": []
  }
 ],
 "metadata": {
  "kernelspec": {
   "display_name": "base",
   "language": "python",
   "name": "python3"
  },
  "language_info": {
   "codemirror_mode": {
    "name": "ipython",
    "version": 3
   },
   "file_extension": ".py",
   "mimetype": "text/x-python",
   "name": "python",
   "nbconvert_exporter": "python",
   "pygments_lexer": "ipython3",
   "version": "3.13.5"
  }
 },
 "nbformat": 4,
 "nbformat_minor": 5
}
