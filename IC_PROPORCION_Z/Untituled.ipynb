{
 "cells": [
  {
   "metadata": {
    "collapsed": true
   },
   "cell_type": "markdown",
   "source": [
    "Nombre: César Alberto Cázares Chaván<br>\n",
    "Fecha: 09/10/2025"
   ],
   "id": "e43e1f8076a92137"
  },
  {
   "metadata": {
    "ExecuteTime": {
     "end_time": "2025-10-10T02:16:30.732826Z",
     "start_time": "2025-10-10T02:16:29.951456Z"
    }
   },
   "cell_type": "code",
   "source": "from scipy.stats import norm",
   "id": "8a28113a12c0be95",
   "outputs": [],
   "execution_count": 2
  },
  {
   "metadata": {
    "ExecuteTime": {
     "end_time": "2025-10-10T02:16:43.368220Z",
     "start_time": "2025-10-10T02:16:43.361769Z"
    }
   },
   "cell_type": "code",
   "source": [
    "def intervaloParaProporcion_z(p,alfa,n):\n",
    "    error_estandar=(p*(1-p)/n)**(1/2)\n",
    "    z=norm.ppf(1-alfa/2,loc=0,scale=1)\n",
    "    linferior=p-z*error_estandar\n",
    "    lsuperior=p+z*error_estandar\n",
    "    return linferior,lsuperior"
   ],
   "id": "67ea1a69749ed070",
   "outputs": [],
   "execution_count": 3
  },
  {
   "metadata": {},
   "cell_type": "markdown",
   "source": "Un centro de salud desea estimar la proporción de personas que viven con VIH en una ciudad. Para ello, se realizó una encuesta aleatoria a 400 personas, de las cuales 28 resultaron ser portadoras del virus. Con base en estos datos, se pide calcular un intervalo de confianza del 95% para la proporción de personas con VIH en la ciudad e interpretar el resultado en contexto.",
   "id": "553bfa548c98702b"
  },
  {
   "metadata": {
    "ExecuteTime": {
     "end_time": "2025-10-10T02:29:57.148100Z",
     "start_time": "2025-10-10T02:29:57.130081Z"
    }
   },
   "cell_type": "code",
   "source": [
    "#validar los supuestos\n",
    "pgorro=28/400\n",
    "n=400\n",
    "print(f\"pgorro*n={pgorro*n}, qgorro*n={(1-pgorro)*n}\")\n",
    "li,ls = intervaloParaProporcion_z(pgorro,0.05,n)\n",
    "print(f\"Con un confianza del 95%, la proporción poblacional esta entre [{li}. {ls}]\")"
   ],
   "id": "fe0279afb251838a",
   "outputs": [
    {
     "name": "stdout",
     "output_type": "stream",
     "text": [
      "pgorro*n=28.000000000000004, qgorro*n=372.0\n",
      "Con un confianza del 95%, la proporción poblacional esta entre [0.04499605185039833. 0.09500394814960168]\n"
     ]
    }
   ],
   "execution_count": 5
  },
  {
   "metadata": {
    "ExecuteTime": {
     "end_time": "2025-10-10T02:34:15.913328Z",
     "start_time": "2025-10-10T02:34:15.905319Z"
    }
   },
   "cell_type": "markdown",
   "source": "Un equipo de ingeniería de sistemas despliega una nueva versión de una API crítica y quiere estimar la proporción de solicitudes que fallan (error 5xx) después del despliegue. Se registraron 800 solicitudes aleatorias durante la primera semana y 56 de ellas resultaron en fallo. Usando un intervalo de confianza con la estadística z (nivel de confianza 95%), construye el intervalo de confianza para la proporción de fallos y explica si se cumplen los supuestos para usar la aproximación normal.",
   "id": "e40f56da5c41fc83"
  },
  {
   "metadata": {
    "ExecuteTime": {
     "end_time": "2025-10-10T02:36:01.586216Z",
     "start_time": "2025-10-10T02:36:01.579585Z"
    }
   },
   "cell_type": "code",
   "source": [
    "pgorro=56/800\n",
    "n=800\n",
    "print(f\"pgorro*n={pgorro*n}, qgorro*n={(1-pgorro)*n}\")\n",
    "li, ls= intervaloParaProporcion_z(pgorro,0.05,n)\n",
    "print(f\"Con un confianza del 95%, la proporción poblacional esta entre [{li}. {ls}]\")"
   ],
   "id": "87a7f93e68b9c5fc",
   "outputs": [
    {
     "name": "stdout",
     "output_type": "stream",
     "text": [
      "pgorro*n=56.00000000000001, qgorro*n=744.0\n",
      "Con un confianza del 95%, la proporción poblacional esta entre [0.052319538706979835. 0.08768046129302018]\n"
     ]
    }
   ],
   "execution_count": 7
  },
  {
   "metadata": {},
   "cell_type": "markdown",
   "source": [
    "Un hospital quiere estimar la proporción de pacientes que presentan una reacción adversa leve tras la administración de un nuevo medicamento. Se seleccionaron 450 pacientes aleatoriamente y 27 de ellos presentaron una reacción adversa leve durante el seguimiento. Usando un intervalo de confianza para proporciones con la aproximación z al 95%:<br>\n",
    "1. Construye el intervalo de confianza para la proporción verdadera de reacciones adversas.\n",
    "2. Explica si se cumplen los supuestos para usar la aproximación normal y da una interpretación clínica breve."
   ],
   "id": "13b0aa13263eb1fe"
  },
  {
   "metadata": {
    "ExecuteTime": {
     "end_time": "2025-10-10T02:38:15.818881Z",
     "start_time": "2025-10-10T02:38:15.806864Z"
    }
   },
   "cell_type": "code",
   "source": [
    "pgorro=27/450\n",
    "n=450\n",
    "print(f\"pgorro*n={pgorro*n}, qgorro*n={(1-pgorro)*n}\")\n",
    "li, ls=intervaloParaProporcion_z(pgorro,0.05,n)\n",
    "print(f\"Con un confianza del 95%, la proporción poblacional esta entre [{li}. {ls}]\")"
   ],
   "id": "a0a5db540982d868",
   "outputs": [
    {
     "name": "stdout",
     "output_type": "stream",
     "text": [
      "pgorro*n=27.0, qgorro*n=423.0\n",
      "Con un confianza del 95%, la proporción poblacional esta entre [0.03805773851991709. 0.0819422614800829]\n"
     ]
    }
   ],
   "execution_count": 9
  },
  {
   "metadata": {},
   "cell_type": "code",
   "outputs": [],
   "execution_count": null,
   "source": "",
   "id": "9497427daf6a8283"
  }
 ],
 "metadata": {
  "kernelspec": {
   "display_name": "Python 3",
   "language": "python",
   "name": "python3"
  },
  "language_info": {
   "codemirror_mode": {
    "name": "ipython",
    "version": 2
   },
   "file_extension": ".py",
   "mimetype": "text/x-python",
   "name": "python",
   "nbconvert_exporter": "python",
   "pygments_lexer": "ipython2",
   "version": "2.7.6"
  }
 },
 "nbformat": 4,
 "nbformat_minor": 5
}
