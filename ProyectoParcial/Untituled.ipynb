{
 "cells": [
  {
   "cell_type": "markdown",
   "id": "66937454",
   "metadata": {
    "vscode": {
     "languageId": "plaintext"
    }
   },
   "source": [
    "Nombre: <br>\n",
    "Fecha: 14/10/2025"
   ]
  },
  {
   "cell_type": "markdown",
   "id": "65138e84",
   "metadata": {},
   "source": [
    "Un psicólogo clínico quiere estudiar la variabilidad en los niveles de ansiedad de los estudiantes universitarios durante periodos de exámenes. Selecciona una muestra aleatoria de **18** estudiantes y obtiene una varianza muestral es de 16 (puntajes de ansiedad). Suponiendo que los niveles de ansiedad siguen una distribución **normal**, construye un intervalo de confianza del 98 % para la varianza poblacional de los puntajes de ansiedad, con el objetivo de entender mejor la dispersión de la ansiedad en la población y diseñar estrategias de intervención más efectivas."
   ]
  },
  {
   "cell_type": "code",
   "execution_count": 6,
   "id": "23e3de95",
   "metadata": {},
   "outputs": [],
   "source": [
    "#importar las librerias\n",
    "from scipy.stats import chi2"
   ]
  },
  {
   "cell_type": "code",
   "execution_count": 4,
   "id": "eecc722d",
   "metadata": {},
   "outputs": [],
   "source": [
    "def intervaloParaVarianza_chi2(varianza,alfa,n):\n",
    "    gl=n-1\n",
    "    chi_variable1=chi2.ppf(1-alfa/2,gl)\n",
    "    chi_variable2=chi2.ppf(alfa/2,gl)\n",
    "    linferior=(gl*varianza)/chi_variable1\n",
    "    lsuperior=(gl*varianza)/chi_variable2\n",
    "    return linferior,lsuperior\n",
    " \n",
    "def intervaloParadesviacion_chi2(varianza,alfa,n):\n",
    "    gl=n-1\n",
    "    chi_variable1=chi2.ppf(1-alfa/2,gl)\n",
    "    chi_variable2=chi2.ppf(alfa/2,gl)\n",
    "    linferior=((gl*varianza)/chi_variable1)**(1/2)\n",
    "    lsuperior=((gl*varianza)/chi_variable2)**(1/2)\n",
    "    return linferior,lsuperior\n",
    "#varianza = varianza muestral\n",
    "#alfa = nivel de confianza\n",
    "#n = muestra aleatoria"
   ]
  },
  {
   "cell_type": "code",
   "execution_count": 8,
   "id": "0f4b8639",
   "metadata": {},
   "outputs": [
    {
     "name": "stdout",
     "output_type": "stream",
     "text": [
      "Con una confianza del 98% la varianza poblacional puede estar entre [8.141600730154751, 42.448532628353135]\n"
     ]
    }
   ],
   "source": [
    "li, ls= intervaloParaVarianza_chi2(16,0.02,18)\n",
    "print(f\"Con una confianza del 98% la varianza poblacional puede estar entre [{li}, {ls}]\")"
   ]
  },
  {
   "cell_type": "code",
   "execution_count": null,
   "id": "0cd5e9ef",
   "metadata": {},
   "outputs": [],
   "source": [
    "#se usa la distribucion chi cuadrada porque la poblacion es normal y la muestra es pequeña n<30 tambien porque no se conoce la \n",
    "# desviacion estandar poblacional y solo se tiene la varianza muestral y el nivel de confianza que es del 98%"
   ]
  },
  {
   "cell_type": "code",
   "execution_count": null,
   "id": "c5cc63c9",
   "metadata": {},
   "outputs": [],
   "source": []
  }
 ],
 "metadata": {
  "kernelspec": {
   "display_name": "base",
   "language": "python",
   "name": "python3"
  },
  "language_info": {
   "codemirror_mode": {
    "name": "ipython",
    "version": 3
   },
   "file_extension": ".py",
   "mimetype": "text/x-python",
   "name": "python",
   "nbconvert_exporter": "python",
   "pygments_lexer": "ipython3",
   "version": "3.13.5"
  }
 },
 "nbformat": 4,
 "nbformat_minor": 5
}
