{
 "cells": [
  {
   "cell_type": "markdown",
   "id": "90ed8619-52cf-4f4d-8445-953f715b3b04",
   "metadata": {},
   "source": [
    "Nombre: César ALberto Cázares Chaván<br>\n",
    "Fecha: 07/10/2025"
   ]
  },
  {
   "cell_type": "code",
   "execution_count": 2,
   "id": "bf282533-03ce-47e1-a42e-996b6e4821bc",
   "metadata": {},
   "outputs": [],
   "source": [
    "#Cargar Librerias\n",
    "from scipy.stats import norm\n"
   ]
  },
  {
   "cell_type": "markdown",
   "id": "16440936-6850-47f5-ae5a-67814b5866b1",
   "metadata": {},
   "source": [
    "Ejercicio 1.-Una bodega quiere estimar el contenido promedio de alcohol de su vino tinto reserva. Según controles de calidad previos, se sabe que la desviación estándar del proceso de fermentación es σ = 0.6% de alcohol.\n",
    "Se toma una muestra aleatoria de 36 botellas, y se obtiene un promedio muestral de 13.4% de alcohol.\n",
    "Construye un intervalo de confianza del 95% para el contenido promedio de alcohol del vino tinto de la bodega."
   ]
  },
  {
   "cell_type": "code",
   "execution_count": null,
   "id": "fc76debc-4165-43f4-a3e7-6b3f86c7e7a8",
   "metadata": {},
   "outputs": [],
   "source": [
    "def intervaloParaMedia_z(x,std,alfa,n):\n",
    "    error_estandar=std/((n)**(1/2))\n",
    "    z=norm.ppf(1-alfa/2,loc=0,scale=1)\n",
    "    linferior=x-z*error_estandar\n",
    "    lsuperior=x+z*error_estandar\n",
    "    return linferior,lsuperior\n",
    "\n",
    "#x = Media muestral\n",
    "#std = Desviación estandar poblacional\n",
    "#alfa = Nivel de confianza\n",
    "#n = Tamaño de la muestra\n"
   ]
  },
  {
   "cell_type": "code",
   "execution_count": null,
   "id": "2c87cfad-76c1-4d7b-a8d5-0b5595646e64",
   "metadata": {},
   "outputs": [
    {
     "name": "stdout",
     "output_type": "stream",
     "text": [
      "Con una confianza del 95% el intervalo es [13.204003601545995,13.595996398454005]\n"
     ]
    }
   ],
   "source": [
    "\n",
    "li, ls=intervaloParaMedia_z(13.4, 0.6, 0.05, 36)\n",
    "print(f\"Con una confianza del 95% el intervalo es [{li},{ls}]\")"
   ]
  },
  {
   "cell_type": "markdown",
   "id": "40a87053-7738-4cad-81c4-71da02079e69",
   "metadata": {},
   "source": [
    "Una empresa de inversión desea estimar el rendimiento promedio semanal de una acción tecnológica que ha mostrado alta volatilidad en los últimos meses. Para ello, se toma una muestra aleatoria de 25 semanas y se obtiene un rendimiento promedio muestral del 2.4%, con una desviación estándar muestral de 1.2%. Con un nivel de confianza del 95%, construye el intervalo de confianza para la media del rendimiento semanal verdadero de la acción, suponiendo que los rendimientos se distribuyen aproximadamente de manera normal."
   ]
  },
  {
   "cell_type": "code",
   "execution_count": 16,
   "id": "082f66d5-7d14-47d5-873b-3b4c68adce66",
   "metadata": {},
   "outputs": [
    {
     "name": "stdout",
     "output_type": "stream",
     "text": [
      "Con una confianza del 95% el intervalo es [1.929608643710387,2.8703913562896126]\n"
     ]
    }
   ],
   "source": [
    "li, ls=intervaloParaMedia_z(2.4,1.2,0.05,25)\n",
    "print(f\"Con una confianza del 95% el intervalo es [{li},{ls}]\")"
   ]
  },
  {
   "cell_type": "markdown",
   "id": "eb307130-a03e-489c-a218-f87feb92d83e",
   "metadata": {},
   "source": [
    "Una empresa de software quiere estimar la cantidad promedio de líneas de código (LOC) que un programador escribe al día.\n",
    "De registros históricos se sabe que la desviación estándar poblacional es σ = 45 LOC.\n",
    "Se selecciona una muestra de 25 programadores, y se obtiene un promedio de 320 LOC diarios.\n",
    "Construye un intervalo de confianza del 99% para la productividad promedio diaria de los programadores."
   ]
  },
  {
   "cell_type": "code",
   "execution_count": 20,
   "id": "92763bb5-c900-4c8e-9788-8d910476857c",
   "metadata": {},
   "outputs": [
    {
     "name": "stdout",
     "output_type": "stream",
     "text": [
      "Con una confianza del 95% el intervalo es [296.8175362680599,343.1824637319401]\n"
     ]
    }
   ],
   "source": [
    "li, ls=intervaloParaMedia_z(320,45,0.01,25)\n",
    "print(f\"Con una confianza del 95% el intervalo es [{li},{ls}]\")"
   ]
  },
  {
   "cell_type": "markdown",
   "id": "68cdf316-16a0-4d46-9b7d-76e6e793fc8d",
   "metadata": {},
   "source": [
    "Un grupo de investigadores quiere estimar el tiempo promedio de entrenamiento de un modelo de inteligencia artificial para reconocimiento de imágenes. Para ello, ejecutan el modelo en 40 pruebas independientes, obteniendo un promedio muestral de 3.8 horas y una desviación estándar de 0.6 horas. Si se asume que los tiempos de entrenamiento siguen una distribución aproximadamente normal, construye el intervalo de confianza al 95% para la media poblacional del tiempo de entrenamiento del modelo."
   ]
  },
  {
   "cell_type": "code",
   "execution_count": 21,
   "id": "de870b46-94eb-4bb6-b4d8-a13bd826c117",
   "metadata": {},
   "outputs": [
    {
     "name": "stdout",
     "output_type": "stream",
     "text": [
      "Con una confianza del 95% el intervalo es [3.6140614903086314,3.985938509691368]\n"
     ]
    }
   ],
   "source": [
    "li, ls=intervaloParaMedia_z(3.8,0.6,0.05,40)\n",
    "print(f\"Con una confianza del 95% el intervalo es [{li},{ls}]\")"
   ]
  },
  {
   "cell_type": "markdown",
   "id": "a8f918d2-b141-43a9-ab55-a8f1ca526fcc",
   "metadata": {},
   "source": [
    "Un ingeniero de redes desea estimar el tiempo promedio de latencia en milisegundos (ms) de una nueva conexión entre dos servidores. Para ello, realiza 50 mediciones aleatorias y obtiene un promedio muestral de 18.5 ms con una desviación estándar de 2.3 ms. Suponiendo que los tiempos de latencia siguen una distribución aproximadamente normal, construye el intervalo de confianza al 99% para la media poblacional de la latencia de la conexión."
   ]
  },
  {
   "cell_type": "code",
   "execution_count": 22,
   "id": "723b6796-84a8-477f-920e-055d2d4ab488",
   "metadata": {},
   "outputs": [
    {
     "name": "stdout",
     "output_type": "stream",
     "text": [
      "Con una confianza del 95% el intervalo es [17.662162270849514,19.337837729150486]\n"
     ]
    }
   ],
   "source": [
    "li, ls=intervaloParaMedia_z(18.5,2.3,0.01,50)\n",
    "print(f\"Con una confianza del 95% el intervalo es [{li},{ls}]\")"
   ]
  },
  {
   "cell_type": "code",
   "execution_count": null,
   "id": "f3c97903-7637-4d67-becf-e3fe34fe6fef",
   "metadata": {},
   "outputs": [],
   "source": []
  }
 ],
 "metadata": {
  "kernelspec": {
   "display_name": "Python [conda env:base] *",
   "language": "python",
   "name": "conda-base-py"
  },
  "language_info": {
   "codemirror_mode": {
    "name": "ipython",
    "version": 3
   },
   "file_extension": ".py",
   "mimetype": "text/x-python",
   "name": "python",
   "nbconvert_exporter": "python",
   "pygments_lexer": "ipython3",
   "version": "3.13.5"
  }
 },
 "nbformat": 4,
 "nbformat_minor": 5
}
