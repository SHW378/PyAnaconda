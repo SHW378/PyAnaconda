{
 "cells": [
  {
   "cell_type": "code",
   "execution_count": null,
   "id": "e7c55d64",
   "metadata": {},
   "outputs": [],
   "source": []
  },
  {
   "cell_type": "code",
   "execution_count": 1,
   "id": "18ff3424",
   "metadata": {},
   "outputs": [],
   "source": [
    "from scipy.stats import norm\n",
    "import matplotlib.pyplot as plt"
   ]
  },
  {
   "cell_type": "code",
   "execution_count": null,
   "id": "f4ca45e2",
   "metadata": {},
   "outputs": [
    {
     "name": "stdout",
     "output_type": "stream",
     "text": [
      "1.- P(X<=0.5): 0.6914624612740131\n",
      "2.- P(X<=1.90): 0.9712834401839981\n",
      "3.- P(07<=X<=1.7) 0.19739818946453003\n",
      "4.- P(X>0.9): 0.18406012534675953\n",
      "5.- P(X=<a)=6997: 0.5235378766466167\n",
      "5.- comprobacion 0.6997\n"
     ]
    }
   ],
   "source": [
    "# 1.-\n",
    "print(\"1.- P(X<=0.5):\" , norm.cdf(0.5,loc=0,scale=1))\n",
    "# 2.-\n",
    "print(\"2.- P(X<=1.90):\" , norm.cdf(1.90,loc=0,scale=1))\n",
    "#3.- \n",
    "print(\"3.- P(07<=X<=1.7)\" , norm.cdf(1.7, loc=0, scale=1) - norm.cdf(0.7, loc=0, scale=1)) \n",
    "# 4.-\n",
    "print(\"4.- P(X>0.9):\", 1-norm.cdf(0.9,loc=0,scale=1))\n",
    "#5.-\n",
    "print(\"5.- P(X=<a)=6997:\", norm.ppf(0.6997,loc=0,scale=1))\n",
    "print(\"5.- comprobacion\", norm.cdf(0.5235378766466167,loc=0,scale=1))\n",
    "#6.-\n",
    "print(\"6.- P(X>a)=0.05:\", norm.ppf(0.95,loc=0,scale=1))\n",
    "print(\"6.- comprobacion\",1-norm.cdf(1.6448536269514722,loc=0,scale=1) )"
   ]
  },
  {
   "cell_type": "code",
   "execution_count": null,
   "id": "28c70328",
   "metadata": {},
   "outputs": [],
   "source": []
  },
  {
   "cell_type": "code",
   "execution_count": null,
   "id": "061ad3cf",
   "metadata": {},
   "outputs": [
    {
     "name": "stdout",
     "output_type": "stream",
     "text": [
      "p(0.5<=x<=a)=0.10 -1.2815515655446004\n",
      "comprobar a: 0.10000000000000009\n"
     ]
    }
   ],
   "source": [
    "# 7.-  p(0.5<=x<=a)\"\"=0.10\"\n",
    "print(\"p(0.5<=x<=a)\"\"=0.10\", norm.ppf(.1,loc=0,scale=1))\n",
    "print(\"comprobar a:\", norm.cdf(-1.2815515655446004,loc=0,scale=1))"
   ]
  },
  {
   "cell_type": "code",
   "execution_count": null,
   "id": "b5249dd3",
   "metadata": {},
   "outputs": [],
   "source": [
    "# 8.- Graficar la funcion de densidad y la acumulada \n",
    "def graficarDistribucionNormalAcumulada(media, desviacion, a, b):\n",
    "    valores=[]\n",
    "    probabilidades=[]\n",
    "    for i in range(a,b+1,1):\n",
    "        valores.append(i)\n",
    "        probabilidades.append(norm.cdf(i,loc=media, scale=desviacion))\n",
    "    return valores, probabilidades\n",
    " \n",
    "def graficarDistribucionNormal(media, desviacion, a, b):\n",
    "    valores=[]\n",
    "    probabilidades=[]\n",
    "    for i in range(a,b+1,1):\n",
    "        valores.append(i)\n",
    "        probabilidades.append(norm.pdf(i,loc=media,scale=desviacion))\n",
    "    return valores, probabilidades"
   ]
  },
  {
   "cell_type": "code",
   "execution_count": null,
   "id": "39eea994",
   "metadata": {},
   "outputs": [],
   "source": [
    "#8.- \n",
    "valores,f=graficarDistribucionNormal(10, 2, 0, 20)\n",
    "plt.plot(valores,f)\n",
    "plt.title(\"Función de densidad de una N(10,4)\")\n",
    "plt.xlabel(\"X\")\n",
    "plt.ylabel(\"f(x)\")\n",
    "plt.show()\n",
    " \n",
    "valores,f=graficarDistribucionNormalAcumulada(10, 2, 0, 20)\n",
    "plt.plot(valores,f)\n",
    "plt.title(\"Función acumulada de probabilidad de una N(170,100)\")\n",
    "plt.xlabel(\"X\")\n",
    "plt.ylabel(\"P(X<=xi)\")\n",
    "plt.show()\n"
   ]
  }
 ],
 "metadata": {
  "kernelspec": {
   "display_name": "base",
   "language": "python",
   "name": "python3"
  },
  "language_info": {
   "codemirror_mode": {
    "name": "ipython",
    "version": 3
   },
   "file_extension": ".py",
   "mimetype": "text/x-python",
   "name": "python",
   "nbconvert_exporter": "python",
   "pygments_lexer": "ipython3",
   "version": "3.13.5"
  }
 },
 "nbformat": 4,
 "nbformat_minor": 5
}
