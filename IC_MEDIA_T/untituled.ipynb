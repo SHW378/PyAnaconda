{
 "cells": [
  {
   "cell_type": "markdown",
   "id": "fa0d367683c217c8",
   "metadata": {
    "collapsed": true
   },
   "source": [
    "Nombre: César ALberto Cázares Chaván<br>\n",
    "Fecha: 09/10/2025"
   ]
  },
  {
   "cell_type": "code",
   "execution_count": 7,
   "id": "707a1b7d6df62465",
   "metadata": {
    "ExecuteTime": {
     "end_time": "2025-10-10T01:50:08.707309Z",
     "start_time": "2025-10-10T01:50:07.723195Z"
    }
   },
   "outputs": [],
   "source": [
    "from scipy.stats import t"
   ]
  },
  {
   "cell_type": "code",
   "execution_count": null,
   "id": "5eb3e15075be7fd1",
   "metadata": {
    "ExecuteTime": {
     "end_time": "2025-10-10T02:03:45.466051Z",
     "start_time": "2025-10-10T02:03:45.457748Z"
    }
   },
   "outputs": [],
   "source": [
    "def intervaloParaMedia_t(x,std,alfa,n):\n",
    "    error_estandar=std/((n)**(1/2))\n",
    "    t_student=t.ppf(1-alfa/2,n-1)\n",
    "    linferior=x-t_student*error_estandar\n",
    "    lsuperior=x+t_student*error_estandar\n",
    "    return linferior,lsuperior\n",
    "\n",
    "#x = promedio muestral\n",
    "#std = estandar muestral\n",
    "#alfa = nivel de confianza\n",
    "#n = muestra aleatoria\n",
    "#muestragrande = n>30"
   ]
  },
  {
   "cell_type": "markdown",
   "id": "8ea46cd16d8e6a4c",
   "metadata": {},
   "source": [
    "Una empresa de inversión desea estimar el rendimiento promedio semanal de una acción tecnológica que ha mostrado alta volatilidad en los últimos meses. Para ello, se toma una muestra aleatoria de 35 semanas y se obtiene un rendimiento promedio muestral del 2.4%, con una desviación estándar muestral de 1.2%. Con un nivel de confianza del 95%, construye el intervalo de confianza para la media del rendimiento semanal verdadero de la acción, suponiendo que los rendimientos se distribuyen aproximadamente de manera normal."
   ]
  },
  {
   "cell_type": "code",
   "execution_count": null,
   "id": "91d0418be76e7596",
   "metadata": {},
   "outputs": [],
   "source": [
    "li, ls=intervaloParaMedia_t(2.4,1.2,0.05,35)\n",
    "print(f\"Con un 95% de confianza la media poblacion se encuentra en [{li},{ls}]\")"
   ]
  },
  {
   "cell_type": "markdown",
   "id": "8af26c7dd423968",
   "metadata": {},
   "source": [
    "Un administrador de sistemas quiere estimar el tiempo promedio de respuesta de un servidor web durante las horas pico el cual se distribuye normalmente. Debido a limitaciones de monitoreo, solo puede registrar una muestra de 10 mediciones de tiempo de respuesta (en milisegundos) durante distintos días. Los tiempos obtenidos fueron:\n",
    "120, 135, 128, 142, 130, 125, 138, 132, 129, 131\n",
    "Se sabe que la desviación estándar poblacional es desconocida. Construye un intervalo de confianza del 95% para el tiempo promedio de respuesta del servidor durante las horas pico."
   ]
  },
  {
   "cell_type": "code",
   "execution_count": 10,
   "id": "7a5e15ce98769443",
   "metadata": {
    "ExecuteTime": {
     "end_time": "2025-10-10T01:50:41.563955Z",
     "start_time": "2025-10-10T01:50:41.554865Z"
    }
   },
   "outputs": [
    {
     "name": "stdout",
     "output_type": "stream",
     "text": [
      "Con un 95% de confianza la media poblacion se encuentra en [126.71979778451549,135.2802022154845]\n"
     ]
    }
   ],
   "source": [
    "import numpy as np\n",
    "arreglo=np.array([120, 135, 128, 142, 130, 125, 138, 132, 129, 131])\n",
    "media=arreglo.mean()\n",
    "std=arreglo.std()\n",
    "li,ls=intervaloParaMedia_t(media,std,0.05,len(arreglo))\n",
    "print(f\"Con un 95% de confianza la media poblacion se encuentra en [{li},{ls}]\")"
   ]
  },
  {
   "cell_type": "markdown",
   "id": "f89b313a88c115d6",
   "metadata": {},
   "source": [
    "Una empresa desarrolladora de videojuegos desea estimar el tiempo promedio que los jugadores tardan en completar una nueva misión dentro de su juego de aventura. Para ello, selecciona una muestra aleatoria de 15 jugadores, obteniendo un tiempo promedio de 42 minutos con una desviación estándar muestral de 5 minutos. Suponiendo que los tiempos siguen una distribución aproximadamente normal, construye un intervalo de confianza del 95% para el tiempo promedio que tardan los jugadores en completar la misión, utilizando la distribución t de Student."
   ]
  },
  {
   "cell_type": "code",
   "execution_count": 12,
   "id": "47789a2aa2b1e553",
   "metadata": {
    "ExecuteTime": {
     "end_time": "2025-10-10T02:00:32.895898Z",
     "start_time": "2025-10-10T02:00:32.888703Z"
    }
   },
   "outputs": [
    {
     "name": "stdout",
     "output_type": "stream",
     "text": [
      "Con un 95% de confianza la media poblacion se encuentra en [39.23109229217679,44.76890770782321]\n"
     ]
    }
   ],
   "source": [
    "li, ls=intervaloParaMedia_t(42,5,0.05,15)\n",
    "print(f\"Con un 95% de confianza la media poblacion se encuentra en [{li},{ls}]\")"
   ]
  },
  {
   "cell_type": "markdown",
   "id": "f6259336cc0e127f",
   "metadata": {},
   "source": [
    "Un grupo de investigadores desea estimar el tiempo promedio (en días) que las personas permanecen en coma después de un traumatismo craneoencefálico grave. Se toma una muestra aleatoria de 15 pacientes de un hospital, y se observa que el tiempo promedio en coma fue de 12.4 días, con una desviación estándar muestral de 3.6 días. Suponiendo que la variable se distribuye aproximadamente normal, construye un intervalo de confianza del 95% para el tiempo promedio que una persona permanece en coma tras este tipo de lesión e interpreta el resultado en contexto."
   ]
  },
  {
   "cell_type": "code",
   "execution_count": 15,
   "id": "996b7af0326b5602",
   "metadata": {
    "ExecuteTime": {
     "end_time": "2025-10-10T02:03:52.310716Z",
     "start_time": "2025-10-10T02:03:52.303367Z"
    }
   },
   "outputs": [
    {
     "name": "stdout",
     "output_type": "stream",
     "text": [
      "Con un 95% de confianza la media poblacion se encuentra en [10.406386450367291,14.39361354963271]\n"
     ]
    }
   ],
   "source": [
    "li,ls=intervaloParaMedia_t(12.4, 3.6,0.05,15)\n",
    "print(f\"Con un 95% de confianza la media poblacion se encuentra en [{li},{ls}]\")"
   ]
  },
  {
   "cell_type": "code",
   "execution_count": null,
   "id": "4ac1b0fe63b601be",
   "metadata": {},
   "outputs": [],
   "source": []
  }
 ],
 "metadata": {
  "kernelspec": {
   "display_name": "Python 3",
   "language": "python",
   "name": "python3"
  },
  "language_info": {
   "codemirror_mode": {
    "name": "ipython",
    "version": 2
   },
   "file_extension": ".py",
   "mimetype": "text/x-python",
   "name": "python",
   "nbconvert_exporter": "python",
   "pygments_lexer": "ipython2",
   "version": "2.7.6"
  }
 },
 "nbformat": 4,
 "nbformat_minor": 5
}
