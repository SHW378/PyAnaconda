{
 "cells": [
  {
   "cell_type": "markdown",
   "id": "d26b0b7b-5fd4-4739-840b-7133e5fc3821",
   "metadata": {},
   "source": [
    "Nombre: César Alberto Cázares Chaván\n",
    "Fecha: 25/09/2025"
   ]
  },
  {
   "cell_type": "code",
   "execution_count": 18,
   "id": "3b5b708d-4fef-4bc7-8336-f344efb4f543",
   "metadata": {},
   "outputs": [],
   "source": [
    "from scipy.stats import poisson\n",
    "import matplotlib.pyplot as plt"
   ]
  },
  {
   "cell_type": "code",
   "execution_count": 4,
   "id": "d14ad60a-b07b-4f0f-b992-2a710c570ebf",
   "metadata": {},
   "outputs": [
    {
     "name": "stdout",
     "output_type": "stream",
     "text": [
      "1.- p(X=2): 0.08422433748856832\n",
      "2.- p(x=5) 0.17546736976785068\n",
      "3.- p(x<=3) 0.26502591529736164\n",
      "3.- p(x<=3) 0.2650259152973616\n",
      "4.- p(x<3) 0.12465201948308108\n",
      "5.- p(x>6) 0.2378165370270613\n",
      "6.- p(x>=6) 0.384039345166937\n",
      "7.- p(2<=x<=5) 0.5755329728385502\n",
      "7.- p(2<=x<=5) 0.5755329728385502\n"
     ]
    }
   ],
   "source": [
    "'''\n",
    "Se tiene que en una ciudad el número de asaltos al día es igual a 5.\n",
    "tomando en cuenta que los asaltos son idependientes\n",
    "1.- ¿Cuál es la probabilidad de que haya 2 asaltos en un día?\n",
    "2.- ¿Cuál es la probabilidad de que haya 5 asaltos en un día?\n",
    "3.- ¿Cuál es la probabilidad de que haya a lo mucho 3 asaltos?\n",
    "4.- ¿Cuál es la probabilidad de que haya menos de 3 asaltos?\n",
    "5.- ¿Cuál es la probabilidad de que haya mas de 6 asaltos?\n",
    "6.- ¿Cuál es la probabilidad de que haya a lo mucho 6 asaltos?\n",
    "7.- ¿Cuál es la probabilidad de que haya entre 2 y 5 asaltos?\n",
    "'''\n",
    "print(\"1.- p(X=2):\", poisson.pmf(mu=5, k=2))\n",
    "print(\"2.- p(x=5)\", poisson.pmf(mu=5, k=5))\n",
    "print(\"3.- p(x<=3)\",poisson.pmf(mu=5, k=0)+poisson.pmf(mu=5, k=1)+poisson.pmf(mu=5, k=2)+poisson.pmf(mu=5, k=3))\n",
    "print(\"3.- p(x<=3)\", poisson.cdf(mu=5, k=3))\n",
    "print(\"4.- p(x<3)\", poisson.cdf(mu=5, k=2))\n",
    "print(\"5.- p(x>6)\", 1-poisson.cdf(mu=5, k=6))\n",
    "print(\"6.- p(x>=6)\", poisson.sf(mu=5, k=5))\n",
    "print(\"7.- p(2<=x<=5)\", poisson.cdf(mu=5, k=5)-poisson.cdf(mu=5, k=1))\n",
    "print(\"7.- p(2<=x<=5)\", poisson.pmf(mu=5, k=2)+poisson.pmf(mu=5, k=3)+poisson.pmf(mu=5, k=4)+poisson.pmf(mu=5, k=5))"
   ]
  },
  {
   "cell_type": "code",
   "execution_count": 20,
   "id": "7982017f-a7ae-4bda-81d4-89d199eb3523",
   "metadata": {},
   "outputs": [],
   "source": [
    "def graficarDistribucionPoisson(tope,promedio):\n",
    "    valores=[]\n",
    "    probabilidades=[]\n",
    "    for i in range(0, tope, 1):\n",
    "        valores.append(i)\n",
    "        probabilidades.append(poisson.pmf(mu=promedio, k=i))\n",
    "    return valores, probabilidades"
   ]
  },
  {
   "cell_type": "code",
   "execution_count": 21,
   "id": "fa24743d-821c-4f01-806e-9080ef4d3627",
   "metadata": {},
   "outputs": [
    {
     "data": {
      "image/png": "[encoded data removed]",
      "text/plain": [
       "<Figure size 640x480 with 1 Axes>"
      ]
     },
     "metadata": {},
     "output_type": "display_data"
    },
    {
     "name": "stdout",
     "output_type": "stream",
     "text": [
      "E(X)= 5\n",
      "VAR(X)= 5\n",
      "STD(X)= 2.23606797749979\n"
     ]
    }
   ],
   "source": [
    "valores,probabilidades=graficarDistribucionPoisson(20,5)\n",
    "plt.scatter(valores,probabilidades)\n",
    "plt.show()\n",
    "print(\"E(X)=\",5)\n",
    "print(\"VAR(X)=\",5)\n",
    "print(\"STD(X)=\",5**(1/2))"
   ]
  },
  {
   "cell_type": "code",
   "execution_count": null,
   "id": "45742e0d-bd32-434e-85f3-8e21984cf18b",
   "metadata": {},
   "outputs": [],
   "source": []
  }
 ],
 "metadata": {
  "kernelspec": {
   "display_name": "base",
   "language": "python",
   "name": "python3"
  },
  "language_info": {
   "codemirror_mode": {
    "name": "ipython",
    "version": 3
   },
   "file_extension": ".py",
   "mimetype": "text/x-python",
   "name": "python",
   "nbconvert_exporter": "python",
   "pygments_lexer": "ipython3",
   "version": "3.13.5"
  }
 },
 "nbformat": 4,
 "nbformat_minor": 5
}
